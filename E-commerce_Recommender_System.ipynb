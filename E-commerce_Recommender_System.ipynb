{
 "cells": [
  {
   "cell_type": "markdown",
   "id": "25b3e79f-03fb-432b-be2b-b7028b536266",
   "metadata": {},
   "source": [
    "Data Loading and Preprocessing"
   ]
  },
  {
   "cell_type": "code",
   "execution_count": null,
   "id": "cb0fb9f0-4acb-4e91-9a52-0530a078312a",
   "metadata": {
    "scrolled": true
   },
   "outputs": [
    {
     "name": "stdout",
     "output_type": "stream",
     "text": [
      "<class 'pandas.core.frame.DataFrame'>\n",
      "RangeIndex: 56082 entries, 0 to 56081\n",
      "Data columns (total 19 columns):\n",
      " #   Column                Non-Null Count  Dtype  \n",
      "---  ------                --------------  -----  \n",
      " 0   Transaction_id        10999 non-null  float64\n",
      " 1   customer_id           10999 non-null  float64\n",
      " 2   Date                  10999 non-null  object \n",
      " 3   Product               10999 non-null  object \n",
      " 4   Gender                10999 non-null  object \n",
      " 5   Device_Type           10999 non-null  object \n",
      " 6   Country               10999 non-null  object \n",
      " 7   State                 10999 non-null  object \n",
      " 8   City                  10999 non-null  object \n",
      " 9   Category              10999 non-null  object \n",
      " 10  Customer_Login_type   10999 non-null  object \n",
      " 11  Delivery_Type         10999 non-null  object \n",
      " 12   Quantity             10999 non-null  float64\n",
      " 13  Transaction Start     10999 non-null  float64\n",
      " 14  Transaction_Result    10999 non-null  float64\n",
      " 15  Amount US$            10999 non-null  object \n",
      " 16  Individual_Price_US$  10999 non-null  object \n",
      " 17  Year_Month            10999 non-null  object \n",
      " 18  Time                  10999 non-null  object \n",
      "dtypes: float64(5), object(14)\n",
      "memory usage: 8.1+ MB\n",
      "None\n",
      "   Transaction_id   customer_id        Date    Product  Gender Device_Type  \\\n",
      "0         40170.0  1.348960e+09  14/11/2013  Hair Band  Female         Web   \n",
      "1         33374.0  2.213675e+09  05/11/2013  Hair Band  Female         Web   \n",
      "2         14407.0  1.809450e+09  01/10/2013  Hair Band  Female         Web   \n",
      "3         15472.0  1.691227e+09  04/10/2013  Hair Band  Female         Web   \n",
      "4         18709.0  2.290737e+09  12/10/2013  Hair Band  Female         Web   \n",
      "\n",
      "         Country       State           City     Category Customer_Login_type  \\\n",
      "0  United States    New York  New York City  Accessories              Member   \n",
      "1  United States  California     Los Angles  Accessories              Member   \n",
      "2  United States  Washington        Seattle  Accessories              Member   \n",
      "3  United States  Washington        Seattle  Accessories              Member   \n",
      "4  United States  Washington        Seattle  Accessories              Member   \n",
      "\n",
      "     Delivery_Type   Quantity   Transaction Start  Transaction_Result  \\\n",
      "0  one-day deliver        12.0                1.0                 0.0   \n",
      "1  one-day deliver        17.0                1.0                 1.0   \n",
      "2  Normal Delivery        23.0                1.0                 0.0   \n",
      "3  Normal Delivery        23.0                1.0                 0.0   \n",
      "4  Normal Delivery        23.0                1.0                 1.0   \n",
      "\n",
      "  Amount US$ Individual_Price_US$ Year_Month      Time  \n",
      "0      6,910                  576     13-Nov  22:35:51  \n",
      "1      1,699                  100     13-Nov  06:44:41  \n",
      "2      4,998                  217     13-Oct  00:41:24  \n",
      "3        736                   32     13-Oct  22:04:03  \n",
      "4      4,389                  191     13-Oct  15:00:46  \n"
     ]
    },
    {
     "name": "stderr",
     "output_type": "stream",
     "text": [
      "C:\\Users\\cex\\AppData\\Local\\Temp\\ipykernel_23188\\2604989418.py:3: DtypeWarning: Columns (2,3,4,5,6,7,8,9,10,11,15,16,17,18) have mixed types. Specify dtype option on import or set low_memory=False.\n",
      "  data = pd.read_csv(r'C:\\Users\\cex\\Desktop\\Recommender Systems Practical Study\\Us-Ecommerce Dataset.csv')\n",
      "C:\\Users\\cex\\AppData\\Local\\Temp\\ipykernel_23188\\2604989418.py:10: FutureWarning: DataFrame.fillna with 'method' is deprecated and will raise in a future version. Use obj.ffill() or obj.bfill() instead.\n",
      "  data.fillna(method='ffill', inplace=True)  # Simple forward fill for missing values\n",
      "C:\\Users\\cex\\AppData\\Local\\Temp\\ipykernel_23188\\2604989418.py:13: UserWarning: Parsing dates in %d/%m/%Y format when dayfirst=False (the default) was specified. Pass `dayfirst=True` or specify a format to silence this warning.\n",
      "  data['Date'] = pd.to_datetime(data['Date'])\n"
     ]
    }
   ],
   "source": [
    "import pandas as pd\n",
    "# Load data\n",
    "data = pd.read_csv(r'C:\\Users\\cex\\Desktop\\Recommender Systems Practical Study\\Us-Ecommerce Dataset.csv')\n",
    "\n",
    "# Display basic info\n",
    "print(data.info())\n",
    "print(data.head())\n",
    "\n",
    "# Handling missing values\n",
    "data.fillna(method='ffill', inplace=True)  # Simple forward fill for missing values\n",
    "\n",
    "# Convert columns to appropriate types if needed\n",
    "data['Date'] = pd.to_datetime(data['Date'])"
   ]
  },
  {
   "cell_type": "markdown",
   "id": "ef60530b-8731-4449-b1a0-afbf04f437db",
   "metadata": {},
   "source": [
    "Data Splitting"
   ]
  },
  {
   "cell_type": "code",
   "execution_count": 43,
   "id": "bbca1e8a-17e6-45d0-98c5-d5b93704d01d",
   "metadata": {},
   "outputs": [
    {
     "name": "stdout",
     "output_type": "stream",
     "text": [
      "Defaulting to user installation because normal site-packages is not writeable\n",
      "Requirement already satisfied: scikit-learn in c:\\users\\cex\\appdata\\roaming\\python\\python310\\site-packages (1.5.2)\n",
      "Requirement already satisfied: numpy>=1.19.5 in c:\\users\\cex\\appdata\\roaming\\python\\python310\\site-packages (from scikit-learn) (2.1.2)\n",
      "Requirement already satisfied: scipy>=1.6.0 in c:\\users\\cex\\appdata\\roaming\\python\\python310\\site-packages (from scikit-learn) (1.14.1)\n",
      "Requirement already satisfied: joblib>=1.2.0 in c:\\users\\cex\\appdata\\roaming\\python\\python310\\site-packages (from scikit-learn) (1.4.2)\n",
      "Requirement already satisfied: threadpoolctl>=3.1.0 in c:\\users\\cex\\appdata\\roaming\\python\\python310\\site-packages (from scikit-learn) (3.5.0)\n",
      "Note: you may need to restart the kernel to use updated packages.\n"
     ]
    }
   ],
   "source": [
    "%pip install scikit-learn\n",
    "from sklearn.model_selection import train_test_split\n",
    "train_data, test_data = train_test_split(data, test_size=0.2, random_state=42)\n"
   ]
  },
  {
   "cell_type": "markdown",
   "id": "cff2e3bd-4ae9-4918-b932-e86030855da3",
   "metadata": {},
   "source": [
    "Algorithm Implementation"
   ]
  },
  {
   "cell_type": "markdown",
   "id": "2073258d-d463-47b9-92b5-e68658a47b11",
   "metadata": {},
   "source": [
    "User-Based Collaborative Filtering"
   ]
  },
  {
   "cell_type": "code",
   "execution_count": 28,
   "id": "be94ca6c-99e1-4d49-a75d-801a8ae9b5aa",
   "metadata": {},
   "outputs": [],
   "source": [
    "# Remove any leading or trailing whitespace from column names\n",
    "train_data.columns = train_data.columns.str.strip()"
   ]
  },
  {
   "cell_type": "code",
   "execution_count": 29,
   "id": "2be8a46a-1c1b-488f-a651-b3943d547c7e",
   "metadata": {},
   "outputs": [],
   "source": [
    "# Create a pivot table after cleaning column names\n",
    "user_product_matrix = train_data.pivot_table(index='customer_id', columns='Product', values='Quantity', fill_value=0)"
   ]
  },
  {
   "cell_type": "code",
   "execution_count": 30,
   "id": "78e0e3df-18ad-47d9-aa4f-faeb16fc39ae",
   "metadata": {},
   "outputs": [],
   "source": [
    "from sklearn.metrics.pairwise import cosine_similarity\n",
    "\n",
    "# Create a pivot table\n",
    "user_product_matrix = train_data.pivot_table(index='customer_id', columns='Product', values='Quantity', fill_value=0)\n",
    "\n",
    "# Compute similarity between users\n",
    "user_similarity = cosine_similarity(user_product_matrix)\n"
   ]
  },
  {
   "cell_type": "markdown",
   "id": "9ac26263-7dc5-4eef-b544-0b2dfaacbd63",
   "metadata": {},
   "source": [
    " Item-Based Collaborative Filtering"
   ]
  },
  {
   "cell_type": "code",
   "execution_count": 31,
   "id": "21b7e3d0-c6c2-4c69-aa4f-68b22d23fe4a",
   "metadata": {},
   "outputs": [],
   "source": [
    "# Transpose the matrix for item-based filtering\n",
    "item_product_matrix = user_product_matrix.T\n",
    "item_similarity = cosine_similarity(item_product_matrix)\n",
    "\n",
    "# Convert similarity into a DataFrame\n",
    "item_similarity_df = pd.DataFrame(item_similarity, index=item_product_matrix.index, columns=item_product_matrix.index)"
   ]
  },
  {
   "cell_type": "markdown",
   "id": "c27a0bcf-2bc7-4e91-8725-d06eb8a6fa90",
   "metadata": {},
   "source": [
    "Matrix Factorization with SVD"
   ]
  },
  {
   "cell_type": "code",
   "execution_count": 32,
   "id": "add583c2-5cd4-452a-b934-94d98b7dea3f",
   "metadata": {},
   "outputs": [],
   "source": [
    "from scipy.sparse import csr_matrix\n",
    "# Convert user_product_matrix to a sparse matrix format\n",
    "user_product_sparse_matrix = csr_matrix(user_product_matrix.values)"
   ]
  },
  {
   "cell_type": "code",
   "execution_count": 33,
   "id": "2bb7e673-ecbf-478b-a21f-2c14fb48756e",
   "metadata": {},
   "outputs": [
    {
     "name": "stdout",
     "output_type": "stream",
     "text": [
      "Matrix shape: 8746 rows, 3 columns\n"
     ]
    }
   ],
   "source": [
    "# Check the shape of the matrix\n",
    "num_rows, num_cols = user_product_sparse_matrix.shape\n",
    "print(f\"Matrix shape: {num_rows} rows, {num_cols} columns\")"
   ]
  },
  {
   "cell_type": "code",
   "execution_count": 34,
   "id": "b1e17f89-ad96-44ed-bdc2-3c8f93d5f0b6",
   "metadata": {},
   "outputs": [],
   "source": [
    "from scipy.sparse.linalg import svds\n",
    "import numpy as np\n",
    "\n",
    "# Set k to 2, as it's the maximum allowable value for this matrix shape\n",
    "k = 2\n",
    "\n",
    "# Perform SVD with the adjusted k\n",
    "U, sigma, Vt = svds(user_product_sparse_matrix, k=k)\n",
    "\n",
    "# Convert sigma to a diagonal matrix\n",
    "sigma = np.diag(sigma)"
   ]
  },
  {
   "cell_type": "markdown",
   "id": "d56dd574-a205-4efd-9e91-a23a436a59c2",
   "metadata": {},
   "source": [
    "Content-Based Filtering"
   ]
  },
  {
   "cell_type": "code",
   "execution_count": 35,
   "id": "29343c2e-49e9-4dcd-8f9e-3f4137ac6b47",
   "metadata": {},
   "outputs": [],
   "source": [
    "# Example: Generate item profiles based on features like 'Category' or 'Device_Type'\n",
    "item_profiles = pd.get_dummies(data[['Product', 'Category', 'Device_Type']])"
   ]
  },
  {
   "cell_type": "markdown",
   "id": "7d5c8dee-1e39-42de-b546-ff523bce1271",
   "metadata": {},
   "source": [
    "Evaluation"
   ]
  },
  {
   "cell_type": "markdown",
   "id": "b09ce9c3-6579-4493-bcaa-e5593417eef0",
   "metadata": {},
   "source": [
    "Evaluation Metrics"
   ]
  },
  {
   "cell_type": "code",
   "execution_count": 36,
   "id": "58776907-5f84-4f66-9e2b-e1223373ecbc",
   "metadata": {},
   "outputs": [
    {
     "name": "stdout",
     "output_type": "stream",
     "text": [
      "Index(['Transaction_id', 'customer_id', 'Date', 'Product', 'Gender',\n",
      "       'Device_Type', 'Country', 'State', 'City', 'Category',\n",
      "       'Customer_Login_type', 'Delivery_Type', ' Quantity ',\n",
      "       'Transaction Start', 'Transaction_Result', 'Amount US$',\n",
      "       'Individual_Price_US$', 'Year_Month', 'Time'],\n",
      "      dtype='object')\n"
     ]
    }
   ],
   "source": [
    "print(test_data.columns)"
   ]
  },
  {
   "cell_type": "code",
   "execution_count": 37,
   "id": "31975418-c590-402a-b068-38abf6461ed9",
   "metadata": {},
   "outputs": [],
   "source": [
    "test_data.columns = test_data.columns.str.strip()"
   ]
  },
  {
   "cell_type": "code",
   "execution_count": 38,
   "id": "75a8109d-2943-4229-b59f-80c19f2cdc2a",
   "metadata": {},
   "outputs": [
    {
     "name": "stdout",
     "output_type": "stream",
     "text": [
      "Index(['Transaction_id', 'customer_id', 'Date', 'Product', 'Gender',\n",
      "       'Device_Type', 'Country', 'State', 'City', 'Category',\n",
      "       'Customer_Login_type', 'Delivery_Type', 'Quantity', 'Transaction Start',\n",
      "       'Transaction_Result', 'Amount US$', 'Individual_Price_US$',\n",
      "       'Year_Month', 'Time'],\n",
      "      dtype='object')\n"
     ]
    }
   ],
   "source": [
    "print(test_data.columns)"
   ]
  },
  {
   "cell_type": "code",
   "execution_count": 39,
   "id": "5cd1c110-8777-4122-9b7b-08c85018c87d",
   "metadata": {},
   "outputs": [],
   "source": [
    "# Reconstruct the predicted user-product matrix\n",
    "predicted_matrix = np.dot(np.dot(U, sigma), Vt)\n",
    "\n",
    "# Convert it to a DataFrame for easier indexing\n",
    "predicted_ratings_df = pd.DataFrame(predicted_matrix, index=user_product_matrix.index, columns=user_product_matrix.columns)"
   ]
  },
  {
   "cell_type": "code",
   "execution_count": 40,
   "id": "7eb37a86-76c5-4560-985b-440a42319f20",
   "metadata": {},
   "outputs": [],
   "source": [
    "# Ensure that test_data has customer_id and Product columns\n",
    "predictions = []\n",
    "for _, row in test_data.iterrows():\n",
    "    customer_id = row['customer_id']\n",
    "    product = row['Product']\n",
    "    # Check if the prediction exists in the matrix\n",
    "    if customer_id in predicted_ratings_df.index and product in predicted_ratings_df.columns:\n",
    "        predicted_quantity = predicted_ratings_df.loc[customer_id, product]\n",
    "    else:\n",
    "        # Use a default prediction if no data is available\n",
    "        predicted_quantity = 0\n",
    "    predictions.append(predicted_quantity)\n",
    "\n",
    "# Convert predictions to a Series to match test_data format\n",
    "predictions = pd.Series(predictions)"
   ]
  },
  {
   "cell_type": "code",
   "execution_count": 41,
   "id": "88a9aa6d-0fb9-4700-a386-fafeb088594d",
   "metadata": {},
   "outputs": [
    {
     "name": "stdout",
     "output_type": "stream",
     "text": [
      "Mean Squared Error: 61.59472229651422\n"
     ]
    }
   ],
   "source": [
    "from sklearn.metrics import mean_squared_error\n",
    "\n",
    "# Calculate Mean Squared Error between actual and predicted quantities\n",
    "mse = mean_squared_error(test_data['Quantity'], predictions)\n",
    "print(f'Mean Squared Error: {mse}')"
   ]
  },
  {
   "cell_type": "code",
   "execution_count": 42,
   "id": "dffe51d1-d881-468e-a367-6f13f7443f64",
   "metadata": {},
   "outputs": [],
   "source": [
    "import pickle\n",
    "model = dtc\n",
    "pickle.dump(model, open(\"E-commerce_Recommender_System.pkl\", 'wb'))"
   ]
  }
 ],
 "metadata": {
  "kernelspec": {
   "display_name": "Python 3",
   "language": "python",
   "name": "python3"
  },
  "language_info": {
   "codemirror_mode": {
    "name": "ipython",
    "version": 3
   },
   "file_extension": ".py",
   "mimetype": "text/x-python",
   "name": "python",
   "nbconvert_exporter": "python",
   "pygments_lexer": "ipython3",
   "version": "3.10.1"
  }
 },
 "nbformat": 4,
 "nbformat_minor": 5
}
